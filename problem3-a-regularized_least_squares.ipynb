{
 "cells": [
  {
   "cell_type": "code",
   "execution_count": 1,
   "metadata": {},
   "outputs": [],
   "source": [
    "import pandas as pd\n",
    "import numpy as np\n",
    "from sklearn import preprocessing\n",
    "from sklearn.model_selection import train_test_split\n",
    "import math\n",
    "from sklearn.metrics import accuracy_score\n",
    "from sklearn.metrics import confusion_matrix\n",
    "from sklearn.model_selection import RepeatedKFold\n",
    "import matplotlib.pyplot as plt\n",
    "from numpy import linalg as LA\n",
    "from scipy.stats import multivariate_normal"
   ]
  },
  {
   "cell_type": "code",
   "execution_count": 2,
   "metadata": {},
   "outputs": [],
   "source": [
    "#load the data\n",
    "def load():\n",
    "    df = pd.read_excel (r'Concrete_Data.xls')\n",
    "    return df"
   ]
  },
  {
   "cell_type": "code",
   "execution_count": 3,
   "metadata": {},
   "outputs": [],
   "source": [
    "def scale(df):\n",
    "#scale the data to [0-1] range\n",
    "    col=df.columns\n",
    "    v = df.values \n",
    "    min_max_scaler = preprocessing.MinMaxScaler()\n",
    "    v_scaled = min_max_scaler.fit_transform(v)\n",
    "    df = pd.DataFrame(v_scaled, columns=col)\n",
    "    return df"
   ]
  },
  {
   "cell_type": "code",
   "execution_count": 4,
   "metadata": {},
   "outputs": [],
   "source": [
    "def splits(df):\n",
    "#randomly split the train and test datasets\n",
    "    #kf =  RepeatedKFold(n_splits=5, n_repeats=1)\n",
    "    kf =  RepeatedKFold(n_splits=10, n_repeats=1, random_state=12883823)\n",
    "    df_train_l=[]\n",
    "    df_test_l=[]\n",
    "    for train, test in kf.split(df):\n",
    "        df_train_l.append(train.reshape(-1,1))\n",
    "        df_test_l.append(test.reshape(-1,1))\n",
    "    return df_train_l,df_test_l\n"
   ]
  },
  {
   "cell_type": "code",
   "execution_count": 5,
   "metadata": {},
   "outputs": [],
   "source": [
    "def getXandY(ind,df):\n",
    "    #separate the data and the labels\n",
    "    df=df.to_numpy()\n",
    "    df=df[ind]\n",
    "    Y=df[:,0,8].reshape(-1,1)\n",
    "    X=df[:,0,0:8]\n",
    "    return X,Y"
   ]
  },
  {
   "cell_type": "code",
   "execution_count": null,
   "metadata": {},
   "outputs": [],
   "source": [
    "def sigmoidf (X):\n",
    "    return  1 / (1 + np.exp(-X))\n"
   ]
  },
  {
   "cell_type": "code",
   "execution_count": null,
   "metadata": {},
   "outputs": [],
   "source": [
    "def gaussianpr(X):\n",
    "    M=np.mean(X,axis=0)\n",
    "    S=np.std(X,axis=0)\n",
    "    print(\"mean is\",M)\n",
    "    print(\"S is \",S)\n",
    "    return np.exp(-0.5 *((X- M)/S)*((X-M )/S))"
   ]
  },
  {
   "cell_type": "code",
   "execution_count": 11,
   "metadata": {},
   "outputs": [],
   "source": [
    "def calculateW(X_train,Y_train,llambda):\n",
    "    xtx=np.dot(X_train.T,X_train)+llambda\n",
    "    xtxinv=np.linalg.inv(xtx) \n",
    "    xtxinvxt=np.dot(xtxinv,X_train.T)\n",
    "    thetaclosed=np.dot(xtxinvxt,Y_train)\n",
    "    return thetaclosed\n"
   ]
  },
  {
   "cell_type": "code",
   "execution_count": 12,
   "metadata": {},
   "outputs": [],
   "source": [
    "def predict(X_test,thetaclosed):\n",
    "    Yparr=np.dot(thetaclosed.T,X_train.T)\n",
    "    return Yparr"
   ]
  },
  {
   "cell_type": "code",
   "execution_count": 17,
   "metadata": {},
   "outputs": [],
   "source": [
    "#calculating the accuracy and the confudion matrix\n",
    "def evaluation(Y_test,Y_pred):\n",
    "    errorr=(1/(2*Y_test_pred.shape[1]))*np.sqrt(np.sum(np.multiply((Y_test- Y_pred),(Y_test- Y_pred))))\n",
    "    return errorr"
   ]
  },
  {
   "cell_type": "code",
   "execution_count": 20,
   "metadata": {},
   "outputs": [],
   "source": [
    "def plot_accuracy(train_acc_l,test_acc_l):\n",
    "    x= [i for i in range(1,11)]\n",
    "    plt.plot(x, train_acc_l , 'b^',linestyle='-',label='train_error')\n",
    "    plt.plot(test_acc_l , 'g+',linestyle='-',label='test_error')\n",
    "    plt.xlabel('k folds')\n",
    "    plt.ylabel('error')\n",
    "    plt.legend()\n",
    "    plt.show()"
   ]
  },
  {
   "cell_type": "code",
   "execution_count": 21,
   "metadata": {},
   "outputs": [
    {
     "data": {
      "image/png": "[encoded data removed]",
      "text/plain": [
       "<Figure size 432x288 with 1 Axes>"
      ]
     },
     "metadata": {
      "needs_background": "light"
     },
     "output_type": "display_data"
    },
    {
     "name": "stdout",
     "output_type": "stream",
     "text": [
      "train_acc [0.1310841500562927, 0.12828961988788748, 0.1314495997766607, 0.12990679836611405, 0.13189093297856785, 0.13014340045561928, 0.12966660048580833, 0.13151887249995145, 0.13058947257366343, 0.12851407596004405]\n",
      "test_acc [0.04236983770267602, 0.04589819047894411, 0.04148389113924349, 0.04447516958087244, 0.041061733523371495, 0.04334541721967013, 0.0441414749060566, 0.04174503939462863, 0.04329916326415924, 0.046384923783661366]\n",
      "avg_acc_train 0.11845941118550994\n",
      "avg_acc_test 0.03947316736302577\n"
     ]
    }
   ],
   "source": [
    "#main\n",
    "llambda=0.8\n",
    "df=load()\n",
    "df=scale(df)\n",
    "df_train_l,df_test_l=splits(df)\n",
    "train_acc_l=[]\n",
    "test_acc_l=[]\n",
    "for i in range (len(df_train_l)):\n",
    "    df_train=df_train_l[i]\n",
    "    df_test=df_test_l[i]\n",
    "    X_train,Y_train=getXandY(df_train,df)\n",
    "    X_test,Y_test=getXandY(df_test,df)    \n",
    "    thetaclosed=calculateW(X_train,Y_train,llambda)\n",
    "    # basis functions\n",
    "    #X_train=sigmoidf(X_train)\n",
    "    #X_train=X_train**2\n",
    "    #X_train=X_train* np.log(X_train)\n",
    "    #X_train=gaussianpr(X_train)\n",
    "    #X_train=np.sin(X_train)\n",
    "    #but they were not producing better results so i used the linear function\n",
    "    Y_train_pred=predict(X_train,thetaclosed)\n",
    "    Y_test_pred=predict(X_test,thetaclosed)\n",
    "    train_acc=evaluation(Y_train,Y_train_pred)\n",
    "    test_acc=evaluation(Y_test,Y_test_pred)\n",
    "    train_acc_l.append(train_acc)\n",
    "    test_acc_l.append(test_acc)\n",
    "avg_acc_train=sum(train_acc_l)/11\n",
    "avg_acc_test=sum(test_acc_l)/11\n",
    "\n",
    "plot_accuracy(train_acc_l,test_acc_l)\n",
    "print(\"train_acc\",train_acc_l)\n",
    "print(\"test_acc\",test_acc_l)\n",
    "print(\"avg_acc_train\",avg_acc_train)\n",
    "print(\"avg_acc_test\",avg_acc_test)"
   ]
  },
  {
   "cell_type": "code",
   "execution_count": null,
   "metadata": {},
   "outputs": [],
   "source": []
  }
 ],
 "metadata": {
  "kernelspec": {
   "display_name": "Python 3",
   "language": "python",
   "name": "python3"
  },
  "language_info": {
   "codemirror_mode": {
    "name": "ipython",
    "version": 3
   },
   "file_extension": ".py",
   "mimetype": "text/x-python",
   "name": "python",
   "nbconvert_exporter": "python",
   "pygments_lexer": "ipython3",
   "version": "3.7.3"
  }
 },
 "nbformat": 4,
 "nbformat_minor": 2
}
