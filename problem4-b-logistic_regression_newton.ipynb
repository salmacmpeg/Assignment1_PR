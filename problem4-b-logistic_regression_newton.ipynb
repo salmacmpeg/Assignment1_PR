{
 "cells": [
  {
   "cell_type": "code",
   "execution_count": 1,
   "metadata": {},
   "outputs": [],
   "source": [
    "import pandas as pd\n",
    "import numpy as np\n",
    "from sklearn import preprocessing\n",
    "from sklearn.model_selection import train_test_split\n",
    "import math\n",
    "from sklearn.metrics import accuracy_score\n",
    "from sklearn.metrics import confusion_matrix\n",
    "from sklearn.model_selection import RepeatedKFold\n",
    "import matplotlib.pyplot as plt"
   ]
  },
  {
   "cell_type": "code",
   "execution_count": 2,
   "metadata": {},
   "outputs": [],
   "source": [
    "def sigmoidf (X):\n",
    "    return  1 / (1 + np.exp(-X))"
   ]
  },
  {
   "cell_type": "code",
   "execution_count": 3,
   "metadata": {},
   "outputs": [],
   "source": [
    "#load the data\n",
    "def load():\n",
    "    df = pd.read_csv (r'spambase.data',header=None)\n",
    "    return df"
   ]
  },
  {
   "cell_type": "code",
   "execution_count": 4,
   "metadata": {},
   "outputs": [],
   "source": [
    "def scale(df):\n",
    "#scale the data to [0-1] range\n",
    "    col=df.columns\n",
    "    v = df.values \n",
    "    min_max_scaler = preprocessing.MinMaxScaler()\n",
    "    v_scaled = min_max_scaler.fit_transform(v)\n",
    "    df = pd.DataFrame(v_scaled, columns=col)\n",
    "    return df"
   ]
  },
  {
   "cell_type": "code",
   "execution_count": 51,
   "metadata": {},
   "outputs": [],
   "source": [
    "def splits(df):\n",
    "#randomly split the train and test datasets\n",
    "    #kf =  RepeatedKFold(n_splits=5, n_repeats=1)\n",
    "    kf =  RepeatedKFold(n_splits=5, n_repeats=1, random_state=12883823)\n",
    "    df_train_l=[]\n",
    "    df_test_l=[]\n",
    "    for train, test in kf.split(df):\n",
    "        df_train_l.append(train.reshape(-1,1))\n",
    "        df_test_l.append(test.reshape(-1,1))\n",
    "    return df_train_l,df_test_l\n"
   ]
  },
  {
   "cell_type": "code",
   "execution_count": 52,
   "metadata": {},
   "outputs": [],
   "source": [
    "def getXandY(ind,df):\n",
    "    #separate the data and the labels\n",
    "    df=df.to_numpy()\n",
    "    df=df[ind]\n",
    "    Y=df[:,0,57]\n",
    "    X=df[:,0,0:57]\n",
    "    return X,Y"
   ]
  },
  {
   "cell_type": "code",
   "execution_count": 53,
   "metadata": {},
   "outputs": [],
   "source": [
    "def Kernal(X_train,mode=0):\n",
    "    if mode==0:\n",
    "        return X_train.T\n",
    "    elif mode==1:\n",
    "        return (1/2)*np.power(X_train.T,2)\n",
    "    elif mode==2:\n",
    "        return np.exp(-0.5*np.power(X_train.T,2))\n",
    "    else:\n",
    "        return np.sin(1+np.power(X_train.T,2))\n",
    "    "
   ]
  },
  {
   "cell_type": "code",
   "execution_count": 54,
   "metadata": {},
   "outputs": [],
   "source": [
    "def calculateW(X_train,Y_train,alfa=2,iterations=100,mode=0):\n",
    "    #getting a basis function\n",
    "    fi_train=Kernal(X_train,mode)\n",
    "    y_train=Y_train\n",
    "    #getting the number of features m , number of data n\n",
    "    m=fi_train.shape[0]\n",
    "    n=fi_train.shape[1]\n",
    "    #initialize W randomly \n",
    "    W=np.random.randn(m,1)*2.2\n",
    "    Ypred=np.zeros((n,1))\n",
    "    R=np.zeros((n,n))\n",
    "    temp1=np.zeros((n,1))\n",
    "    loss=[]\n",
    "    #loop for finding W\n",
    "    for i in range(iterations):\n",
    "        Ypred=sigmoidf(np.dot(W.T,fi_train))\n",
    "        temp1=Ypred-y_train\n",
    "        R=np.dot(Ypred.T,(1-Ypred))\n",
    "        temp2=np.linalg.pinv(np.dot(np.dot(fi_train,R),fi_train.T))\n",
    "        L=(np.dot(np.dot(temp2,fi_train),temp1.T))\n",
    "        loss.append(L)\n",
    "        #alfa is the learning rate\n",
    "        W=W-alfa*L\n",
    "\n",
    "    Ypred=np.where(Ypred > 0.5, 1, 0)\n",
    "    return W,Ypred.T"
   ]
  },
  {
   "cell_type": "code",
   "execution_count": 55,
   "metadata": {},
   "outputs": [],
   "source": [
    "def model(X_test,W,mode):\n",
    "    Y_pred=sigmoidf(np.dot(Kernal(X_test,mode).T,W))\n",
    "    Y_pred=np.where(Y_pred > 0.5, 1, 0)\n",
    "    Y_pred=Y_pred.astype(int)\n",
    "    return Y_pred"
   ]
  },
  {
   "cell_type": "code",
   "execution_count": 56,
   "metadata": {},
   "outputs": [],
   "source": [
    "#calculating the accuracy and the confudion matrix\n",
    "def evaluation(Y_test,Y_pred):\n",
    "    Y_test=Y_test.reshape(-1,1)\n",
    "    accuracy=accuracy_score(Y_test, Y_pred)\n",
    "    return accuracy"
   ]
  },
  {
   "cell_type": "code",
   "execution_count": 57,
   "metadata": {},
   "outputs": [],
   "source": [
    "def plot_accuracy(train_acc_l,test_acc_l):\n",
    "    x= [i for i in range(1,6)]\n",
    "    plt.plot(x, train_acc_l , 'b^',linestyle='-',label='train acc')\n",
    "    plt.plot(test_acc_l , 'g+',linestyle='-',label='test_acc')\n",
    "    plt.xlabel('k folds')\n",
    "    plt.ylabel('accuracy')\n",
    "    plt.legend()\n",
    "    plt.show()"
   ]
  },
  {
   "cell_type": "code",
   "execution_count": 58,
   "metadata": {},
   "outputs": [
    {
     "data": {
      "image/png": "[encoded data removed]",
      "text/plain": [
       "<Figure size 432x288 with 1 Axes>"
      ]
     },
     "metadata": {
      "needs_background": "light"
     },
     "output_type": "display_data"
    },
    {
     "name": "stdout",
     "output_type": "stream",
     "text": [
      "train_acc [0.5035326086956522, 0.5061124694376528, 0.5960336864982342, 0.5427872860635696, 0.6514534093996197]\n",
      "test_acc [0.4723127035830619, 0.5108695652173914, 0.5836956521739131, 0.5391304347826087, 0.6521739130434783]\n",
      "avg_acc_train 0.5599838920189456\n",
      "avg_acc_test 0.5516364537600907\n"
     ]
    }
   ],
   "source": [
    "#main\n",
    "mode=0\n",
    "#the higher thenumber of iterations the better the results relatively\n",
    "iterations=100\n",
    "#the learning rate\n",
    "alfa=2\n",
    "df=load()\n",
    "df=scale(df)\n",
    "df_train_l,df_test_l=splits(df)\n",
    "train_acc_l=[]\n",
    "test_acc_l=[]\n",
    "for i in range (len(df_train_l)):\n",
    "    df_train=df_train_l[i]\n",
    "    df_test=df_test_l[i]\n",
    "    X_train,Y_train=getXandY(df_train,df)\n",
    "    X_test,Y_test=getXandY(df_test,df)\n",
    "    W,Y_train_pred=calculateW(X_train,Y_train,alfa,iterations,mode)\n",
    "    Y_test_pred=model(X_test,W,mode)\n",
    "    train_acc=evaluation(Y_train,Y_train_pred)\n",
    "    test_acc=evaluation(Y_test,Y_test_pred)\n",
    "    train_acc_l.append(train_acc)\n",
    "    test_acc_l.append(test_acc)\n",
    "avg_acc_train=sum(train_acc_l)/5\n",
    "avg_acc_test=sum(test_acc_l)/5\n",
    "\n",
    "plot_accuracy(train_acc_l,test_acc_l)\n",
    "print(\"train_acc\",train_acc_l)\n",
    "print(\"test_acc\",test_acc_l)\n",
    "print(\"avg_acc_train\",avg_acc_train)\n",
    "print(\"avg_acc_test\",avg_acc_test)"
   ]
  },
  {
   "cell_type": "code",
   "execution_count": null,
   "metadata": {},
   "outputs": [],
   "source": []
  }
 ],
 "metadata": {
  "kernelspec": {
   "display_name": "Python 3",
   "language": "python",
   "name": "python3"
  },
  "language_info": {
   "codemirror_mode": {
    "name": "ipython",
    "version": 3
   },
   "file_extension": ".py",
   "mimetype": "text/x-python",
   "name": "python",
   "nbconvert_exporter": "python",
   "pygments_lexer": "ipython3",
   "version": "3.7.3"
  }
 },
 "nbformat": 4,
 "nbformat_minor": 2
}
