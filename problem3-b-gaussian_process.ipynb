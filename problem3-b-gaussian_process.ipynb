{
 "cells": [
  {
   "cell_type": "code",
   "execution_count": 1,
   "metadata": {},
   "outputs": [],
   "source": [
    "import pandas as pd\n",
    "import numpy as np\n",
    "from sklearn import preprocessing\n",
    "from sklearn.model_selection import train_test_split\n",
    "import math\n",
    "from sklearn.metrics import accuracy_score\n",
    "from sklearn.metrics import confusion_matrix\n",
    "from sklearn.model_selection import RepeatedKFold\n",
    "import matplotlib.pyplot as plt\n",
    "from numpy import linalg as LA\n",
    "from scipy.stats import multivariate_normal"
   ]
  },
  {
   "cell_type": "code",
   "execution_count": 3,
   "metadata": {},
   "outputs": [],
   "source": [
    "#load the data\n",
    "def load():\n",
    "    df = pd.read_excel (r'Concrete_Data.xls')\n",
    "    return df"
   ]
  },
  {
   "cell_type": "code",
   "execution_count": 4,
   "metadata": {},
   "outputs": [],
   "source": [
    "def scale(df):\n",
    "#scale the data to [0-1] range\n",
    "    col=df.columns\n",
    "    v = df.values \n",
    "    min_max_scaler = preprocessing.MinMaxScaler()\n",
    "    v_scaled = min_max_scaler.fit_transform(v)\n",
    "    df = pd.DataFrame(v_scaled, columns=col)\n",
    "    return df"
   ]
  },
  {
   "cell_type": "code",
   "execution_count": 49,
   "metadata": {},
   "outputs": [],
   "source": [
    "def splits(df):\n",
    "#randomly split the train and test datasets\n",
    "    #kf =  RepeatedKFold(n_splits=5, n_repeats=1)\n",
    "    kf =  RepeatedKFold(n_splits=10, n_repeats=1, random_state=12883823)\n",
    "    df_train_l=[]\n",
    "    df_test_l=[]\n",
    "    for train, test in kf.split(df):\n",
    "        df_train_l.append(train.reshape(-1,1))\n",
    "        df_test_l.append(test.reshape(-1,1))\n",
    "    return df_train_l,df_test_l\n"
   ]
  },
  {
   "cell_type": "code",
   "execution_count": 37,
   "metadata": {},
   "outputs": [],
   "source": [
    "def getXandY(ind,df):\n",
    "    #separate the data and the labels\n",
    "    df=df.to_numpy()\n",
    "    df=df[ind]\n",
    "    Y=df[:,0,8].reshape(-1,1)\n",
    "    X=df[:,0,0:8]\n",
    "    return X,Y"
   ]
  },
  {
   "cell_type": "code",
   "execution_count": 28,
   "metadata": {},
   "outputs": [],
   "source": [
    "def Kernal(X1,X2,T,m):\n",
    "    return np.exp(- np.dot((X1-X2),(X1-X2).T)/m*T)\n",
    "    "
   ]
  },
  {
   "cell_type": "code",
   "execution_count": 29,
   "metadata": {},
   "outputs": [],
   "source": [
    "def getC(T,Betainv,n,m,X_train):\n",
    "    C=np.zeros((n,n))\n",
    "    for i in range(n) :\n",
    "        for j in range(n):\n",
    "            C[i,j]=(Kernal(X_train[i,:].reshape(1,-1),X_train[j,:].reshape(1,-1),T,m))\n",
    "    C=C+Betainv*np.identity(n)\n",
    "    return C"
   ]
  },
  {
   "cell_type": "code",
   "execution_count": 43,
   "metadata": {},
   "outputs": [],
   "source": [
    "def getKstar(z,T,n,m,X_test,X_train):\n",
    "    Kstar=np.zeros((n,1))\n",
    "    for j in range(n):\n",
    "        Kstar[j,:]=Kernal(X_test[z,:].reshape(1,-1),X_train[j,:].reshape(1,-1),T,m)\n",
    "    return Kstar"
   ]
  },
  {
   "cell_type": "code",
   "execution_count": 44,
   "metadata": {},
   "outputs": [],
   "source": [
    "def getScalerC(z,T,m,Betainv,X_test):\n",
    "    ScalerC=Kernal(X_test[z,:].reshape(1,-1),X_test[z,:].reshape(1,-1),T,m)\n",
    "    return ScalerC+Betainv"
   ]
  },
  {
   "cell_type": "code",
   "execution_count": 45,
   "metadata": {},
   "outputs": [],
   "source": [
    "def calculateW(X_test,X_train,Y_train,Betainv=2,T=2):\n",
    "    n=X_train.shape[0]\n",
    "    m=X_train.shape[1]\n",
    "    C=getC(T,Betainv,n,m,X_train)\n",
    "    Ypredict=np.zeros((X_test.shape[0],1))\n",
    "    mean=np.zeros((X_test.shape[0],1))\n",
    "    Cov=np.zeros((X_test.shape[0],1))\n",
    "    cinv=np.linalg.pinv(C)\n",
    "    for i in range(X_test.shape[0]):\n",
    "        Kstar=getKstar(i,T,n,m,X_test,X_train)\n",
    "        ScalerC=getScalerC(i,T,m,Betainv,X_test)\n",
    "        s1=np.dot((Kstar.T),cinv)\n",
    "        mean[i]=np.dot(s1, Y_train)\n",
    "        Cov[i]=ScalerC- np.dot(s1,Kstar)\n",
    "        Ypredict[i,:]=np.random.normal(mean[i], math.sqrt(Cov[i]))\n",
    "    return Ypredict,mean,Cov\n"
   ]
  },
  {
   "cell_type": "code",
   "execution_count": 69,
   "metadata": {},
   "outputs": [],
   "source": [
    "#calculating the accuracy and the confudion matrix\n",
    "def evaluation(Y_test,Y_pred):\n",
    "    errorr=(1/(2*Y_test_pred.shape[0]))*np.sqrt(np.sum(np.multiply((Y_test- Y_pred),(Y_test- Y_pred))))\n",
    "    return errorr"
   ]
  },
  {
   "cell_type": "code",
   "execution_count": 70,
   "metadata": {},
   "outputs": [],
   "source": [
    "def plot_accuracy(train_acc_l,test_acc_l):\n",
    "    x= [i for i in range(1,11)]\n",
    "    plt.plot(x, train_acc_l , 'b^',linestyle='-',label='train error')\n",
    "    plt.plot(test_acc_l , 'g+',linestyle='-',label='test_error')\n",
    "    plt.xlabel('k folds')\n",
    "    plt.ylabel('error')\n",
    "    plt.legend()\n",
    "    plt.show()"
   ]
  },
  {
   "cell_type": "code",
   "execution_count": 71,
   "metadata": {},
   "outputs": [
    {
     "name": "stdout",
     "output_type": "stream",
     "text": [
      "(927, 927)\n",
      "(927, 927)\n",
      "(927, 927)\n",
      "(927, 927)\n",
      "(927, 927)\n",
      "(927, 927)\n",
      "(927, 927)\n",
      "(927, 927)\n",
      "(927, 927)\n",
      "(927, 927)\n",
      "(927, 927)\n",
      "(927, 927)\n",
      "(927, 927)\n",
      "(927, 927)\n",
      "(927, 927)\n",
      "(927, 927)\n",
      "(927, 927)\n",
      "(927, 927)\n",
      "(927, 927)\n",
      "(927, 927)\n"
     ]
    },
    {
     "data": {
      "image/png": "[encoded data removed]",
      "text/plain": [
       "<Figure size 432x288 with 1 Axes>"
      ]
     },
     "metadata": {
      "needs_background": "light"
     },
     "output_type": "display_data"
    },
    {
     "name": "stdout",
     "output_type": "stream",
     "text": [
      "train_error [0.20821180191624183, 0.21072539810820023, 0.20729299382416222, 0.20138138240962075, 0.21759766059866797, 0.2111536760931801, 0.22154308296942055, 0.2138099863178265, 0.21739532484758284, 0.2129397135614465]\n",
      "test_error [0.061248769430684656, 0.06480019373308958, 0.06492286028871783, 0.06737406060295713, 0.06334141211298079, 0.06981052171602806, 0.06821257430616151, 0.08572836655823748, 0.07087501046725007, 0.07109019944573301]\n",
      "avg_error_train 0.0002289159677072653\n",
      "avg_error_test 7.415361042738298e-05\n"
     ]
    }
   ],
   "source": [
    "#main\n",
    "\n",
    "Betainv=2 #B\n",
    "T=2 #gaussian kernal parameter\n",
    "df=load()\n",
    "df=scale(df)\n",
    "df_train_l,df_test_l=splits(df)\n",
    "train_acc_l=[]\n",
    "test_acc_l=[]\n",
    "for i in range (len(df_train_l)):\n",
    "    df_train=df_train_l[i]\n",
    "    df_test=df_test_l[i]\n",
    "    X_train,Y_train=getXandY(df_train,df)\n",
    "    X_test,Y_test=getXandY(df_test,df)\n",
    "    Y_train_pred,mean,Cov=calculateW(X_train,X_train,Y_train,Betainv,T)\n",
    "    Y_test_pred,mean,Cov=calculateW(X_test,X_train,Y_train,Betainv,T)\n",
    "    train_acc=evaluation(Y_train,Y_train_pred)\n",
    "    test_acc=evaluation(Y_test,Y_test_pred)\n",
    "    train_acc_l.append(train_acc)\n",
    "    test_acc_l.append(test_acc)\n",
    "avg_acc_train=sum(train_acc_l)/10\n",
    "avg_acc_test=sum(test_acc_l)/10\n",
    "\n",
    "plot_accuracy(train_acc_l,test_acc_l)\n",
    "print(\"train_error\",train_acc_l)\n",
    "print(\"test_error\",test_acc_l)\n",
    "print(\"avg_error_train\",avg_acc_train/927)\n",
    "print(\"avg_error_test\",avg_acc_test/927)"
   ]
  },
  {
   "cell_type": "code",
   "execution_count": null,
   "metadata": {},
   "outputs": [],
   "source": []
  }
 ],
 "metadata": {
  "kernelspec": {
   "display_name": "Python 3",
   "language": "python",
   "name": "python3"
  },
  "language_info": {
   "codemirror_mode": {
    "name": "ipython",
    "version": 3
   },
   "file_extension": ".py",
   "mimetype": "text/x-python",
   "name": "python",
   "nbconvert_exporter": "python",
   "pygments_lexer": "ipython3",
   "version": "3.7.3"
  }
 },
 "nbformat": 4,
 "nbformat_minor": 2
}
