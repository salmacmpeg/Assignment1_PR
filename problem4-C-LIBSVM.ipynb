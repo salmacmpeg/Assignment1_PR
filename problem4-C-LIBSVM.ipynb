{
 "cells": [
  {
   "cell_type": "code",
   "execution_count": 1,
   "metadata": {},
   "outputs": [],
   "source": [
    "#!pip install LIBSVM\n",
    "from libsvm import *\n",
    "from libsvm.svmutil import *\n",
    "import pandas as pd\n",
    "import numpy as np\n",
    "from sklearn import preprocessing\n",
    "from sklearn.model_selection import train_test_split\n",
    "import math\n",
    "from sklearn.metrics import accuracy_score\n",
    "from sklearn.metrics import confusion_matrix\n",
    "from sklearn.model_selection import RepeatedKFold\n",
    "import matplotlib.pyplot as plt"
   ]
  },
  {
   "cell_type": "code",
   "execution_count": 2,
   "metadata": {},
   "outputs": [],
   "source": [
    "#load the data\n",
    "def load():\n",
    "    df = pd.read_csv (r'spambase.data',header=None)\n",
    "    return df"
   ]
  },
  {
   "cell_type": "code",
   "execution_count": 3,
   "metadata": {},
   "outputs": [],
   "source": [
    "def scale(df):\n",
    "#scale the data to [0-1] range\n",
    "    col=df.columns\n",
    "    v = df.values \n",
    "    min_max_scaler = preprocessing.MinMaxScaler()\n",
    "    v_scaled = min_max_scaler.fit_transform(v)\n",
    "    df = pd.DataFrame(v_scaled, columns=col)\n",
    "    return df"
   ]
  },
  {
   "cell_type": "code",
   "execution_count": 4,
   "metadata": {},
   "outputs": [],
   "source": [
    "def splits(df):\n",
    "#randomly split the train and test datasets\n",
    "    #kf =  RepeatedKFold(n_splits=5, n_repeats=1)\n",
    "    kf =  RepeatedKFold(n_splits=5, n_repeats=1, random_state=12883823)\n",
    "    df_train_l=[]\n",
    "    df_test_l=[]\n",
    "    for train, test in kf.split(df):\n",
    "        df_train_l.append(train.reshape(-1,1))\n",
    "        df_test_l.append(test.reshape(-1,1))\n",
    "    return df_train_l,df_test_l\n"
   ]
  },
  {
   "cell_type": "code",
   "execution_count": 5,
   "metadata": {},
   "outputs": [],
   "source": [
    "def getXandY(ind,df):\n",
    "    #separate the data and the labels\n",
    "    df=df.to_numpy()\n",
    "    df=df[ind]\n",
    "    Y=df[:,0,57]\n",
    "    X=df[:,0,0:57]\n",
    "    return X,Y"
   ]
  },
  {
   "cell_type": "code",
   "execution_count": 38,
   "metadata": {},
   "outputs": [],
   "source": [
    "def model(X_train,Y_train):\n",
    "    prob=svm_problem(Y_train,X_train)\n",
    "    param = svm_parameter('-t 1 -c 4 -b 1 -d 4 -q')\n",
    "    m = svm_train(prob, param)\n",
    "    return m"
   ]
  },
  {
   "cell_type": "code",
   "execution_count": 39,
   "metadata": {},
   "outputs": [],
   "source": [
    "#calculating the accuracy and the confudion matrix\n",
    "def predict_and_evaluation(X_train,Y_train,m):\n",
    "    print(X_train.shape)\n",
    "    Y_train=Y_train.reshape(-1,1)\n",
    "    print(Y_train.shape)\n",
    "    Y_train=Y_train.astype(int)\n",
    "    Y_pred, p_acc, _=svm_predict(Y_train,X_train,m)\n",
    "    accuracy=p_acc[0]\n",
    "    conf=confusion_matrix(Y_train,  Y_pred)\n",
    "    return accuracy,conf"
   ]
  },
  {
   "cell_type": "code",
   "execution_count": 40,
   "metadata": {},
   "outputs": [],
   "source": [
    "def plot_accuracy(train_acc_l,test_acc_l):\n",
    "    x= [i for i in range(1,6)]\n",
    "    plt.plot(x, train_acc_l , 'b^',linestyle='-',label='train acc')\n",
    "    plt.plot(test_acc_l , 'g+',linestyle='-',label='test_acc')\n",
    "    plt.xlabel('k folds')\n",
    "    plt.ylabel('accuracy')\n",
    "    plt.legend()\n",
    "    plt.show()"
   ]
  },
  {
   "cell_type": "code",
   "execution_count": 41,
   "metadata": {},
   "outputs": [
    {
     "name": "stdout",
     "output_type": "stream",
     "text": [
      "(3680, 57)\n",
      "(3680, 1)\n",
      "Model supports probability estimates, but disabled in predicton.\n",
      "Accuracy = 60.5978% (2230/3680) (classification)\n",
      "(921, 57)\n",
      "(921, 1)\n",
      "Model supports probability estimates, but disabled in predicton.\n",
      "Accuracy = 60.5863% (558/921) (classification)\n",
      "(3681, 57)\n",
      "(3681, 1)\n",
      "Model supports probability estimates, but disabled in predicton.\n",
      "Accuracy = 60.9889% (2245/3681) (classification)\n",
      "(920, 57)\n",
      "(920, 1)\n",
      "Model supports probability estimates, but disabled in predicton.\n",
      "Accuracy = 59.0217% (543/920) (classification)\n",
      "(3681, 57)\n",
      "(3681, 1)\n",
      "Model supports probability estimates, but disabled in predicton.\n",
      "Accuracy = 60.8259% (2239/3681) (classification)\n",
      "(920, 57)\n",
      "(920, 1)\n",
      "Model supports probability estimates, but disabled in predicton.\n",
      "Accuracy = 59.6739% (549/920) (classification)\n",
      "(3681, 57)\n",
      "(3681, 1)\n",
      "Model supports probability estimates, but disabled in predicton.\n",
      "Accuracy = 60.3097% (2220/3681) (classification)\n",
      "(920, 57)\n",
      "(920, 1)\n",
      "Model supports probability estimates, but disabled in predicton.\n",
      "Accuracy = 61.7391% (568/920) (classification)\n",
      "(3681, 57)\n",
      "(3681, 1)\n",
      "Model supports probability estimates, but disabled in predicton.\n",
      "Accuracy = 60.2554% (2218/3681) (classification)\n",
      "(920, 57)\n",
      "(920, 1)\n",
      "Model supports probability estimates, but disabled in predicton.\n",
      "Accuracy = 61.9565% (570/920) (classification)\n"
     ]
    },
    {
     "data": {
      "image/png": "[encoded data removed]",
      "text/plain": [
       "<Figure size 432x288 with 1 Axes>"
      ]
     },
     "metadata": {
      "needs_background": "light"
     },
     "output_type": "display_data"
    },
    {
     "name": "stdout",
     "output_type": "stream",
     "text": [
      "train_acc [60.597826086956516, 60.98886172235806, 60.825862537353984, 60.30969845150774, 60.255365389839724]\n",
      "test_acc [60.586319218241044, 59.02173913043478, 59.673913043478265, 61.73913043478261, 61.95652173913043]\n",
      "avg_acc_train 60.59552283760321\n",
      "avg_acc_test 60.595524713213436\n"
     ]
    }
   ],
   "source": [
    "#main\n",
    "\n",
    "df=load()\n",
    "df=scale(df)\n",
    "df_train_l,df_test_l=splits(df)\n",
    "train_acc_l=[]\n",
    "train_conf_l=[]\n",
    "test_acc_l=[]\n",
    "test_conf_l=[]\n",
    "for i in range (len(df_train_l)):\n",
    "    df_train=df_train_l[i]\n",
    "    df_test=df_test_l[i]\n",
    "    X_train,Y_train=getXandY(df_train,df)\n",
    "    X_test,Y_test=getXandY(df_test,df)\n",
    "    m=model(X_train,Y_train)\n",
    "    train_acc,train_conf=predict_and_evaluation(X_train,Y_train,m)\n",
    "    test_acc,test_conf=predict_and_evaluation(X_test,Y_test,m)\n",
    "    train_acc_l.append(train_acc)\n",
    "    train_conf_l.append(train_conf)\n",
    "    test_acc_l.append(test_acc)\n",
    "    test_conf_l.append(test_conf)\n",
    "avg_acc_train=sum(train_acc_l)/5\n",
    "avg_acc_test=sum(test_acc_l)/5\n",
    "\n",
    "plot_accuracy(train_acc_l,test_acc_l)\n",
    "print(\"train_acc\",train_acc_l)\n",
    "print(\"test_acc\",test_acc_l)\n",
    "print(\"avg_acc_train\",avg_acc_train)\n",
    "print(\"avg_acc_test\",avg_acc_test)"
   ]
  },
  {
   "cell_type": "code",
   "execution_count": null,
   "metadata": {},
   "outputs": [],
   "source": []
  },
  {
   "cell_type": "code",
   "execution_count": null,
   "metadata": {},
   "outputs": [],
   "source": [
    "'''\n",
    "Usage: svm-train [options] training_set_file [model_file]\n",
    "options:\n",
    "-s svm_type : set type of SVM (default 0)\n",
    "\t0 -- C-SVC\t\t(multi-class classification)\n",
    "\t1 -- nu-SVC\t\t(multi-class classification)\n",
    "\t2 -- one-class SVM\n",
    "\t3 -- epsilon-SVR\t(regression)\n",
    "\t4 -- nu-SVR\t\t(regression)\n",
    "-t kernel_type : set type of kernel function (default 2)\n",
    "\t0 -- linear: u'*v\n",
    "\t1 -- polynomial: (gamma*u'*v + coef0)^degree\n",
    "\t2 -- radial basis function: exp(-gamma*|u-v|^2)\n",
    "\t3 -- sigmoid: tanh(gamma*u'*v + coef0)\n",
    "\t4 -- precomputed kernel (kernel values in training_set_file)\n",
    "-d degree : set degree in kernel function (default 3)\n",
    "-g gamma : set gamma in kernel function (default 1/num_features)\n",
    "-r coef0 : set coef0 in kernel function (default 0)\n",
    "-c cost : set the parameter C of C-SVC, epsilon-SVR, and nu-SVR (default 1)\n",
    "-n nu : set the parameter nu of nu-SVC, one-class SVM, and nu-SVR (default 0.5)\n",
    "-p epsilon : set the epsilon in loss function of epsilon-SVR (default 0.1)\n",
    "-m cachesize : set cache memory size in MB (default 100)\n",
    "-e epsilon : set tolerance of termination criterion (default 0.001)\n",
    "-h shrinking : whether to use the shrinking heuristics, 0 or 1 (default 1)\n",
    "-b probability_estimates : whether to train a SVC or SVR model for probability estimates,\n",
    "0 or 1 (default 0)\n",
    "-wi weight : set the parameter C of class i to weight*C, for C-SVC (default 1)\n",
    "-v n: n-fold cross validation mode\n",
    "-q : quiet mode (no outputs)\n",
    "\n",
    "\n",
    "option -v randomly splits the data into n parts and calculates cross\n",
    "'''"
   ]
  }
 ],
 "metadata": {
  "kernelspec": {
   "display_name": "Python 3",
   "language": "python",
   "name": "python3"
  },
  "language_info": {
   "codemirror_mode": {
    "name": "ipython",
    "version": 3
   },
   "file_extension": ".py",
   "mimetype": "text/x-python",
   "name": "python",
   "nbconvert_exporter": "python",
   "pygments_lexer": "ipython3",
   "version": "3.7.3"
  }
 },
 "nbformat": 4,
 "nbformat_minor": 2
}
