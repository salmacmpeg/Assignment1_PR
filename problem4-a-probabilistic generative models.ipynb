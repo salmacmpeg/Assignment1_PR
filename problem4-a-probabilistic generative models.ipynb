{
 "cells": [
  {
   "cell_type": "code",
   "execution_count": 113,
   "metadata": {},
   "outputs": [],
   "source": [
    "import pandas as pd\n",
    "import numpy as np\n",
    "from sklearn import preprocessing\n",
    "from sklearn.model_selection import train_test_split\n",
    "import math\n",
    "from sklearn.metrics import accuracy_score\n",
    "from sklearn.metrics import confusion_matrix\n",
    "from sklearn.model_selection import RepeatedKFold\n",
    "import matplotlib.pyplot as plt"
   ]
  },
  {
   "cell_type": "code",
   "execution_count": 92,
   "metadata": {},
   "outputs": [],
   "source": [
    "def sigmoidf (X):\n",
    "    return  1 / (1 + np.exp(-X))"
   ]
  },
  {
   "cell_type": "code",
   "execution_count": 101,
   "metadata": {},
   "outputs": [],
   "source": [
    "#load the data\n",
    "def load():\n",
    "    df = pd.read_csv (r'spambase.data',header=None)\n",
    "    return df"
   ]
  },
  {
   "cell_type": "code",
   "execution_count": 102,
   "metadata": {},
   "outputs": [],
   "source": [
    "def scale(df):\n",
    "#scale the data to [0-1] range\n",
    "    col=df.columns\n",
    "    v = df.values \n",
    "    min_max_scaler = preprocessing.MinMaxScaler()\n",
    "    v_scaled = min_max_scaler.fit_transform(v)\n",
    "    df = pd.DataFrame(v_scaled, columns=col)\n",
    "    return df"
   ]
  },
  {
   "cell_type": "code",
   "execution_count": 139,
   "metadata": {},
   "outputs": [],
   "source": [
    "def splits(df):\n",
    "#randomly split the train and test datasets\n",
    "    kf =  RepeatedKFold(n_splits=5, n_repeats=1)\n",
    "    #kf =  RepeatedKFold(n_splits=5, n_repeats=1, random_state=12883823)\n",
    "    df_train_l=[]\n",
    "    df_test_l=[]\n",
    "    for train, test in kf.split(df):\n",
    "        df_train_l.append(train.reshape(-1,1))\n",
    "        df_test_l.append(test.reshape(-1,1))\n",
    "    return df_train_l,df_test_l\n"
   ]
  },
  {
   "cell_type": "code",
   "execution_count": 140,
   "metadata": {},
   "outputs": [],
   "source": [
    "def getXandY(ind,df):\n",
    "    #separate the data and the labels\n",
    "    df=df.to_numpy()\n",
    "    df=df[ind]\n",
    "    Y=df[:,0,57]\n",
    "    X=df[:,0,0:57]\n",
    "    return X,Y"
   ]
  },
  {
   "cell_type": "code",
   "execution_count": 141,
   "metadata": {},
   "outputs": [],
   "source": [
    "def calculateW(X_train,Y_train):\n",
    "    #find X1[part of the train data that has label Y=0],X2 [part of the train data that has label Y=1]\n",
    "    X1=X_train[Y_train<0.5]\n",
    "    X2=X_train[Y_train>0.5]\n",
    "    #find the number of data points where y=0 , and y=1 \n",
    "    N1=X1.shape[0]\n",
    "    N2=X2.shape[0]\n",
    "    N=N1+N2\n",
    "    #find the Mean vecors M1 [mean of features for all the data points in Y=0]\n",
    "    # and M2 [mean of features for all the data points in Y=1]\n",
    "    M1=(1/N1)* np.sum(X1, axis=0,keepdims=True)\n",
    "    M2=(1/N2)* np.sum(X2, axis=0,keepdims=True)\n",
    "    #find the covariance matrix and its inverse\n",
    "    X1_mins_M1=np.sum((X1-M1), axis=0,keepdims=True)\n",
    "    X2_mins_M2=np.sum((X2-M2), axis=0,keepdims=True)\n",
    "\n",
    "    S1=(1/N1)*np.dot(X1_mins_M1.T,X1_mins_M1)\n",
    "    S2=(1/N2)* np.dot(X2_mins_M2.T,X2_mins_M2)\n",
    "\n",
    "    cov=(N1/N)*S1+ (N2/N)*S2\n",
    "    covinv=np.linalg.inv(cov)\n",
    "    #finding the weights W and W0\n",
    "    W= np.dot(covinv,(M1-M2).T)\n",
    "    Pc1=N1/N\n",
    "    Pc2=N2/N\n",
    "    W0=(-1/2)*np.dot(np.dot(M1,covinv),M1.T) + (1/2)*np.dot(np.dot(M2,covinv),M2.T) + math.log((Pc1/Pc2),10)\n",
    "    #now the model is sigmoid(WT.X+W0)\n",
    "    return W, W0"
   ]
  },
  {
   "cell_type": "code",
   "execution_count": 142,
   "metadata": {},
   "outputs": [],
   "source": [
    "def model(X_test,W,W0):\n",
    "    Y_pred=sigmoidf(np.dot(W.T,X_test.T)+W0)\n",
    "    Y_pred=Y_pred.astype(int)\n",
    "    Y_pred=Y_pred.T\n",
    "    return Y_pred"
   ]
  },
  {
   "cell_type": "code",
   "execution_count": 143,
   "metadata": {},
   "outputs": [],
   "source": [
    "#calculating the accuracy and the confudion matrix\n",
    "def evaluation(Y_test,Y_pred):\n",
    "    accuracy=accuracy_score(Y_test, Y_pred)\n",
    "    conf=confusion_matrix(Y_test,  Y_pred)\n",
    "    return accuracy,conf"
   ]
  },
  {
   "cell_type": "code",
   "execution_count": 144,
   "metadata": {},
   "outputs": [],
   "source": [
    "def plot_accuracy(train_acc_l,test_acc_l):\n",
    "    x= [i for i in range(1,6)]\n",
    "    plt.plot(x, train_acc_l , 'b^',linestyle='-',label='train acc')\n",
    "    plt.plot(test_acc_l , 'g+',linestyle='-',label='test_acc')\n",
    "    plt.xlabel('k folds')\n",
    "    plt.ylabel('accuracy')\n",
    "    plt.legend()\n",
    "    plt.show()"
   ]
  },
  {
   "cell_type": "code",
   "execution_count": 148,
   "metadata": {},
   "outputs": [
    {
     "data": {
      "image/png": "[encoded data removed]",
      "text/plain": [
       "<Figure size 432x288 with 1 Axes>"
      ]
     },
     "metadata": {
      "needs_background": "light"
     },
     "output_type": "display_data"
    },
    {
     "name": "stdout",
     "output_type": "stream",
     "text": [
      "train_acc [0.5801630434782609, 0.42434121162727517, 0.29638685139907633, 0.21352893235533824, 0.32192339038304807]\n",
      "test_acc [0.5667752442996743, 0.40869565217391307, 0.28369565217391307, 0.20217391304347826, 0.3141304347826087]\n",
      "avg_acc_train 0.36726868584859973\n",
      "avg_acc_test 0.35509417929471754\n"
     ]
    }
   ],
   "source": [
    "#main\n",
    "\n",
    "df=load()\n",
    "df=scale(df)\n",
    "df_train_l,df_test_l=splits(df)\n",
    "train_acc_l=[]\n",
    "train_conf_l=[]\n",
    "test_acc_l=[]\n",
    "test_conf_l=[]\n",
    "for i in range (len(df_train_l)):\n",
    "    df_train=df_train_l[i]\n",
    "    df_test=df_test_l[i]\n",
    "    X_train,Y_train=getXandY(df_train,df)\n",
    "    X_test,Y_test=getXandY(df_test,df)\n",
    "    W,W0=calculateW(X_train,Y_train)\n",
    "    Y_train_pred=model(X_train,W,W0)\n",
    "    Y_test_pred=model(X_test,W,W0)\n",
    "    train_acc,train_conf=evaluation(Y_train,Y_train_pred)\n",
    "    test_acc,test_conf=evaluation(Y_test,Y_test_pred)\n",
    "    train_acc_l.append(train_acc)\n",
    "    train_conf_l.append(train_conf)\n",
    "    test_acc_l.append(test_acc)\n",
    "    test_conf_l.append(test_conf)\n",
    "avg_acc_train=sum(train_acc_l)/5\n",
    "avg_acc_test=sum(test_acc_l)/5\n",
    "\n",
    "plot_accuracy(train_acc_l,test_acc_l)\n",
    "print(\"train_acc\",train_acc_l)\n",
    "print(\"test_acc\",test_acc_l)\n",
    "print(\"avg_acc_train\",avg_acc_train)\n",
    "print(\"avg_acc_test\",avg_acc_test)"
   ]
  }
 ],
 "metadata": {
  "kernelspec": {
   "display_name": "Python 3",
   "language": "python",
   "name": "python3"
  },
  "language_info": {
   "codemirror_mode": {
    "name": "ipython",
    "version": 3
   },
   "file_extension": ".py",
   "mimetype": "text/x-python",
   "name": "python",
   "nbconvert_exporter": "python",
   "pygments_lexer": "ipython3",
   "version": "3.7.3"
  }
 },
 "nbformat": 4,
 "nbformat_minor": 2
}
